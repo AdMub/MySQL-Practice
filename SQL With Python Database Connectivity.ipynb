{
 "cells": [
  {
   "cell_type": "code",
   "execution_count": 1,
   "id": "de010167",
   "metadata": {},
   "outputs": [],
   "source": [
    "#import libraries\n",
    "import mysql.connector\n",
    "from mysql.connector import Error\n",
    "import pandas as pd"
   ]
  },
  {
   "cell_type": "code",
   "execution_count": 2,
   "id": "3669f5f1",
   "metadata": {},
   "outputs": [
    {
     "name": "stdout",
     "output_type": "stream",
     "text": [
      "MySQL Database connection successful\n"
     ]
    }
   ],
   "source": [
    "def create_server_connection(host_name, user_name, user_password):\n",
    "    connection = None\n",
    "    try:\n",
    "        connection = mysql.connector.connect(\n",
    "        host = host_name,\n",
    "        user = user_name,\n",
    "        password = user_password\n",
    "        )\n",
    "        print('MySQL Database connection successful')\n",
    "    except Error as err:\n",
    "        print(f\"Error: '{err}'\")\n",
    "    return connection\n",
    "              \n",
    "# Put out MySQL Terminal password\n",
    "pwd = 'Original@465'\n",
    "              \n",
    "# Database name\n",
    "db = 'AdMub' \n",
    "connection = create_server_connection(\"localhost\",'root', pwd) "
   ]
  },
  {
   "cell_type": "code",
   "execution_count": 46,
   "id": "16faeb22",
   "metadata": {},
   "outputs": [
    {
     "name": "stdout",
     "output_type": "stream",
     "text": [
      "Defaulting to user installation because normal site-packages is not writeable\n",
      "Requirement already satisfied: mysql-connector-python in c:\\users\\user\\appdata\\roaming\\python\\python310\\site-packages (8.2.0)\n",
      "Requirement already satisfied: protobuf<=4.21.12,>=4.21.1 in c:\\users\\user\\appdata\\roaming\\python\\python310\\site-packages (from mysql-connector-python) (4.21.12)\n"
     ]
    }
   ],
   "source": [
    "!pip install mysql-connector-python"
   ]
  },
  {
   "cell_type": "code",
   "execution_count": 3,
   "id": "3a0728ca",
   "metadata": {},
   "outputs": [
    {
     "name": "stdout",
     "output_type": "stream",
     "text": [
      "Error:'1007 (HY000): Can't create database 'mysql_python'; database exists'\n"
     ]
    }
   ],
   "source": [
    "# Create mysql_python \n",
    "\n",
    "def create_database(connection, query):\n",
    "    cursor = connection.cursor()\n",
    "    try:\n",
    "        cursor.execute(query)\n",
    "        print(\"Database create successfully\")\n",
    "    except Error as err:\n",
    "        print(f\"Error:'{err}'\")\n",
    "create_database_query = \"Create database mysql_python\"\n",
    "create_database(connection, create_database_query)"
   ]
  },
  {
   "cell_type": "code",
   "execution_count": 4,
   "id": "27ee16df",
   "metadata": {},
   "outputs": [],
   "source": [
    "# connect to database\n",
    "\n",
    "def create_db_connection(host_name, user_name, user_password, db_name):\n",
    "    connection = None\n",
    "    try:\n",
    "        connection = mysql.connector.connect(\n",
    "            host = host_name,\n",
    "            user = user_name,\n",
    "            password = user_password,\n",
    "            database = db_name\n",
    "        )\n",
    "        print(\"MySQL database connection successful\")\n",
    "    except Error as err:\n",
    "        print(f\"Error:'{err}'\")\n",
    "    return connection\n"
   ]
  },
  {
   "cell_type": "code",
   "execution_count": 5,
   "id": "57b070a9",
   "metadata": {},
   "outputs": [],
   "source": [
    "# Execute sql queries\n",
    "\n",
    "def execute_query(connection, query):\n",
    "    cursor = connection.cursor()\n",
    "    try:\n",
    "        cursor.execute(query)\n",
    "        connection.commit()\n",
    "        print(\"Query was successful\")\n",
    "    except Error as err:\n",
    "        print(f\"Error:'{err}'\")"
   ]
  },
  {
   "cell_type": "code",
   "execution_count": 36,
   "id": "a770594b",
   "metadata": {},
   "outputs": [
    {
     "name": "stdout",
     "output_type": "stream",
     "text": [
      "MySQL database connection successful\n",
      "Error:'1050 (42S01): Table 'orders' already exists'\n"
     ]
    }
   ],
   "source": [
    "create_orders_table = \"\"\"\n",
    "create table orders(\n",
    "order_id int primary key,\n",
    "customer_name varchar(30) not null,\n",
    "product_name varchar(20) not null,\n",
    "date_ordered date,\n",
    "quantity int,\n",
    "unit_price float,\n",
    "phone_number varchar(20));\n",
    "\"\"\"\n",
    "# connect to database\n",
    "connection = create_db_connection(\"localhost\", \"root\", pwd, 'mysql_python')\n",
    "execute_query(connection, create_orders_table)"
   ]
  },
  {
   "cell_type": "code",
   "execution_count": 37,
   "id": "9351fded",
   "metadata": {},
   "outputs": [
    {
     "name": "stdout",
     "output_type": "stream",
     "text": [
      "MySQL database connection successful\n",
      "Error:'1062 (23000): Duplicate entry '1' for key 'orders.PRIMARY''\n"
     ]
    }
   ],
   "source": [
    "# INSERT DATA \n",
    "data_orders = \"\"\"\n",
    "insert into orders values\n",
    "(001, 'Yemi', 'Laptop', '2015-07-23', 6, 1500, '8145916352'),\n",
    "(002, 'Daley', 'Stationeries', '2010-10-05', 14, 150, '7066502185'),\n",
    "(003, 'Adimald', 'Clothes', '2020-09-20', 2, 230, '8068196181'),\n",
    "(004, 'Adroq', 'Smart Tv', '2023-11-19', 1, 900, '8058077742'),\n",
    "(005, 'Solad', 'Earpod', '2021-03-30', 3, 400, '7084083812'),\n",
    "(006, 'Adhal', 'Shoes', '2022-10-16', 15, 2250, '55065612')\n",
    "\"\"\"\n",
    "\n",
    "# connect to database\n",
    "connection = create_db_connection(\"localhost\", \"root\", pwd, 'mysql_python')\n",
    "execute_query(connection, data_orders)"
   ]
  },
  {
   "cell_type": "code",
   "execution_count": 38,
   "id": "c803367b",
   "metadata": {},
   "outputs": [],
   "source": [
    "def read_query(connection, query):\n",
    "    cursor = connection.cursor()\n",
    "    result = None\n",
    "    try:\n",
    "        cursor.execute(query)\n",
    "        result = cursor.fetchall()\n",
    "        return result\n",
    "    except:\n",
    "        print(f\"Error: '{err}'\")"
   ]
  },
  {
   "cell_type": "code",
   "execution_count": 20,
   "id": "7e3475d9",
   "metadata": {},
   "outputs": [
    {
     "name": "stdout",
     "output_type": "stream",
     "text": [
      "MySQL database connection successful\n",
      "(1, 'Yemi', 'Laptop', datetime.date(2015, 7, 23), 6, 1500.0, '8145916352')\n",
      "(2, 'Daley', 'Stationeries', datetime.date(2010, 10, 5), 14, 150.0, '7066502185')\n",
      "(3, 'Adimald', 'Clothes', datetime.date(2020, 9, 20), 2, 230.0, '8068196181')\n",
      "(4, 'Adroq', 'Smart Tv', datetime.date(2023, 11, 19), 1, 900.0, '8058077742')\n",
      "(5, 'Solad', 'Earpod', datetime.date(2021, 3, 30), 3, 400.0, '7084083812')\n",
      "(6, 'Adhal', 'Shoes', datetime.date(2022, 10, 16), 15, 2250.0, '55065612')\n"
     ]
    }
   ],
   "source": [
    "# Using the select statement\n",
    "s1 = \"\"\"\n",
    "select * from orders;\n",
    "\"\"\"\n",
    "connection = create_db_connection(\"localhost\", \"root\", pwd, 'mysql_python')\n",
    "output = read_query(connection, s1)\n",
    "for result in output:\n",
    "    print(result)"
   ]
  },
  {
   "cell_type": "code",
   "execution_count": 22,
   "id": "72f18e17",
   "metadata": {},
   "outputs": [
    {
     "name": "stdout",
     "output_type": "stream",
     "text": [
      "MySQL database connection successful\n",
      "('Yemi', datetime.date(2015, 7, 23), '8145916352')\n",
      "('Daley', datetime.date(2010, 10, 5), '7066502185')\n",
      "('Adimald', datetime.date(2020, 9, 20), '8068196181')\n",
      "('Adroq', datetime.date(2023, 11, 19), '8058077742')\n",
      "('Solad', datetime.date(2021, 3, 30), '7084083812')\n",
      "('Adhal', datetime.date(2022, 10, 16), '55065612')\n"
     ]
    }
   ],
   "source": [
    "# Using the select statement\n",
    "s2 = \"\"\"\n",
    "select customer_name, date_ordered, phone_number from orders;\n",
    "\"\"\"\n",
    "connection = create_db_connection(\"localhost\", \"root\", pwd, 'mysql_python')\n",
    "output = read_query(connection, s2)\n",
    "for result in output:\n",
    "    print(result)"
   ]
  },
  {
   "cell_type": "code",
   "execution_count": 30,
   "id": "dc653d85",
   "metadata": {},
   "outputs": [
    {
     "name": "stdout",
     "output_type": "stream",
     "text": [
      "MySQL database connection successful\n",
      "(2015,)\n",
      "(2010,)\n",
      "(2020,)\n",
      "(2023,)\n",
      "(2021,)\n",
      "(2022,)\n"
     ]
    }
   ],
   "source": [
    "# Using the select statement\n",
    "s3 = \"\"\"\n",
    "select year(date_ordered) from orders;\n",
    "\"\"\"\n",
    "connection = create_db_connection(\"localhost\", \"root\", pwd, 'mysql_python')\n",
    "output = read_query(connection, s3)\n",
    "for result in output:\n",
    "    print(result)"
   ]
  },
  {
   "cell_type": "code",
   "execution_count": 31,
   "id": "8d8477d2",
   "metadata": {},
   "outputs": [
    {
     "name": "stdout",
     "output_type": "stream",
     "text": [
      "MySQL database connection successful\n",
      "(2015,)\n",
      "(2010,)\n",
      "(2020,)\n",
      "(2023,)\n",
      "(2021,)\n",
      "(2022,)\n"
     ]
    }
   ],
   "source": [
    "# Using the select statement\n",
    "s4 = \"\"\"\n",
    "select distinct year(date_ordered) from orders;\n",
    "\"\"\"\n",
    "connection = create_db_connection(\"localhost\", \"root\", pwd, 'mysql_python')\n",
    "output = read_query(connection, s4)\n",
    "for result in output:\n",
    "    print(result)"
   ]
  },
  {
   "cell_type": "code",
   "execution_count": 32,
   "id": "a4cee952",
   "metadata": {},
   "outputs": [
    {
     "name": "stdout",
     "output_type": "stream",
     "text": [
      "MySQL database connection successful\n",
      "(1, 'Yemi', 'Laptop', datetime.date(2015, 7, 23), 6, 1500.0, '8145916352')\n",
      "(3, 'Adimald', 'Clothes', datetime.date(2020, 9, 20), 2, 230.0, '8068196181')\n",
      "(4, 'Adroq', 'Smart Tv', datetime.date(2023, 11, 19), 1, 900.0, '8058077742')\n",
      "(5, 'Solad', 'Earpod', datetime.date(2021, 3, 30), 3, 400.0, '7084083812')\n",
      "(6, 'Adhal', 'Shoes', datetime.date(2022, 10, 16), 15, 2250.0, '55065612')\n"
     ]
    }
   ],
   "source": [
    "# Using the select statement\n",
    "s5 = \"\"\"\n",
    "select * from orders where date_ordered > '2010-10-05';\n",
    "\"\"\"\n",
    "connection = create_db_connection(\"localhost\", \"root\", pwd, 'mysql_python')\n",
    "output = read_query(connection, s5)\n",
    "for result in output:\n",
    "    print(result)"
   ]
  },
  {
   "cell_type": "code",
   "execution_count": 43,
   "id": "be4c8981",
   "metadata": {},
   "outputs": [
    {
     "name": "stdout",
     "output_type": "stream",
     "text": [
      "MySQL database connection successful\n",
      "(6, 'Adhal', 'Shoes', datetime.date(2022, 10, 16), 15, 2250.0, '55065612')\n",
      "(1, 'Yemi', 'Laptop', datetime.date(2015, 7, 23), 6, 1500.0, '8145916352')\n",
      "(4, 'Adroq', 'Smart Tv', datetime.date(2023, 11, 19), 1, 900.0, '8058077742')\n",
      "(5, 'Solad', 'Earpod', datetime.date(2021, 3, 30), 3, 400.0, '7084083812')\n",
      "(3, 'Adimald', 'Clothes', datetime.date(2020, 9, 20), 2, 230.0, '8068196181')\n",
      "(2, 'Daley', 'Stationeries', datetime.date(2010, 10, 5), 14, 150.0, '7066502185')\n"
     ]
    }
   ],
   "source": [
    "# Using the select statement\n",
    "s6 = \"\"\"\n",
    "select * from orders order by unit_price desc;\n",
    "\"\"\"\n",
    "connection = create_db_connection(\"localhost\", \"root\", pwd, 'mysql_python')\n",
    "output = read_query(connection, s6)\n",
    "for result in output:\n",
    "    print(result)"
   ]
  },
  {
   "cell_type": "code",
   "execution_count": 47,
   "id": "97cb6386",
   "metadata": {},
   "outputs": [
    {
     "name": "stdout",
     "output_type": "stream",
     "text": [
      "MySQL database connection successful\n",
      "(4, 'Adroq', 'Smart Tv', datetime.date(2023, 11, 19), 1, 900.0, '8058077742')\n",
      "(3, 'Adimald', 'Clothes', datetime.date(2020, 9, 20), 2, 230.0, '8068196181')\n",
      "(5, 'Solad', 'Earpod', datetime.date(2021, 3, 30), 3, 400.0, '7084083812')\n",
      "(1, 'Yemi', 'Laptop', datetime.date(2015, 7, 23), 6, 1500.0, '8145916352')\n",
      "(2, 'Daley', 'Stationeries', datetime.date(2010, 10, 5), 14, 150.0, '7066502185')\n",
      "(6, 'Adhal', 'Shoes', datetime.date(2022, 10, 16), 15, 2250.0, '55065612')\n"
     ]
    }
   ],
   "source": [
    "# Using the select statement\n",
    "s7 = \"\"\"\n",
    "select * from orders order by quantity asc;\n",
    "\"\"\"\n",
    "connection = create_db_connection(\"localhost\", \"root\", pwd, 'mysql_python')\n",
    "output = read_query(connection, s7)\n",
    "for result in output:\n",
    "    print(result)"
   ]
  },
  {
   "cell_type": "code",
   "execution_count": 50,
   "id": "46ded264",
   "metadata": {},
   "outputs": [
    {
     "data": {
      "text/html": [
       "<div>\n",
       "<style scoped>\n",
       "    .dataframe tbody tr th:only-of-type {\n",
       "        vertical-align: middle;\n",
       "    }\n",
       "\n",
       "    .dataframe tbody tr th {\n",
       "        vertical-align: top;\n",
       "    }\n",
       "\n",
       "    .dataframe thead th {\n",
       "        text-align: right;\n",
       "    }\n",
       "</style>\n",
       "<table border=\"1\" class=\"dataframe\">\n",
       "  <thead>\n",
       "    <tr style=\"text-align: right;\">\n",
       "      <th></th>\n",
       "      <th>order_id</th>\n",
       "      <th>customer_name</th>\n",
       "      <th>product_name</th>\n",
       "      <th>date_ordered</th>\n",
       "      <th>quantity</th>\n",
       "      <th>unit_price</th>\n",
       "      <th>phone_number</th>\n",
       "    </tr>\n",
       "  </thead>\n",
       "  <tbody>\n",
       "    <tr>\n",
       "      <th>0</th>\n",
       "      <td>4</td>\n",
       "      <td>Adroq</td>\n",
       "      <td>Smart Tv</td>\n",
       "      <td>2023-11-19</td>\n",
       "      <td>1</td>\n",
       "      <td>900.0</td>\n",
       "      <td>8058077742</td>\n",
       "    </tr>\n",
       "    <tr>\n",
       "      <th>1</th>\n",
       "      <td>3</td>\n",
       "      <td>Adimald</td>\n",
       "      <td>Clothes</td>\n",
       "      <td>2020-09-20</td>\n",
       "      <td>2</td>\n",
       "      <td>230.0</td>\n",
       "      <td>8068196181</td>\n",
       "    </tr>\n",
       "    <tr>\n",
       "      <th>2</th>\n",
       "      <td>5</td>\n",
       "      <td>Solad</td>\n",
       "      <td>Earpod</td>\n",
       "      <td>2021-03-30</td>\n",
       "      <td>3</td>\n",
       "      <td>400.0</td>\n",
       "      <td>7084083812</td>\n",
       "    </tr>\n",
       "    <tr>\n",
       "      <th>3</th>\n",
       "      <td>1</td>\n",
       "      <td>Yemi</td>\n",
       "      <td>Laptop</td>\n",
       "      <td>2015-07-23</td>\n",
       "      <td>6</td>\n",
       "      <td>1500.0</td>\n",
       "      <td>8145916352</td>\n",
       "    </tr>\n",
       "    <tr>\n",
       "      <th>4</th>\n",
       "      <td>2</td>\n",
       "      <td>Daley</td>\n",
       "      <td>Stationeries</td>\n",
       "      <td>2010-10-05</td>\n",
       "      <td>14</td>\n",
       "      <td>150.0</td>\n",
       "      <td>7066502185</td>\n",
       "    </tr>\n",
       "    <tr>\n",
       "      <th>5</th>\n",
       "      <td>6</td>\n",
       "      <td>Adhal</td>\n",
       "      <td>Shoes</td>\n",
       "      <td>2022-10-16</td>\n",
       "      <td>15</td>\n",
       "      <td>2250.0</td>\n",
       "      <td>55065612</td>\n",
       "    </tr>\n",
       "  </tbody>\n",
       "</table>\n",
       "</div>"
      ],
      "text/plain": [
       "   order_id customer_name  product_name date_ordered  quantity  unit_price  \\\n",
       "0         4         Adroq      Smart Tv   2023-11-19         1       900.0   \n",
       "1         3       Adimald       Clothes   2020-09-20         2       230.0   \n",
       "2         5         Solad        Earpod   2021-03-30         3       400.0   \n",
       "3         1          Yemi        Laptop   2015-07-23         6      1500.0   \n",
       "4         2         Daley  Stationeries   2010-10-05        14       150.0   \n",
       "5         6         Adhal         Shoes   2022-10-16        15      2250.0   \n",
       "\n",
       "  phone_number  \n",
       "0   8058077742  \n",
       "1   8068196181  \n",
       "2   7084083812  \n",
       "3   8145916352  \n",
       "4   7066502185  \n",
       "5     55065612  "
      ]
     },
     "metadata": {},
     "output_type": "display_data"
    }
   ],
   "source": [
    "from_db = []\n",
    "\n",
    "for rslt in output:\n",
    "    rslt = list(rslt)\n",
    "    from_db.append(rslt)\n",
    "    \n",
    "column = [\"order_id\",'customer_name','product_name',\n",
    "          'date_ordered','quantity','unit_price','phone_number']\n",
    "df= pd.DataFrame(from_db, columns = column)\n",
    "\n",
    "display(df)"
   ]
  },
  {
   "cell_type": "code",
   "execution_count": 51,
   "id": "6b2e2418",
   "metadata": {},
   "outputs": [
    {
     "name": "stdout",
     "output_type": "stream",
     "text": [
      "MySQL database connection successful\n",
      "Query was successful\n"
     ]
    }
   ],
   "source": [
    "# Update command\n",
    "\n",
    "update = \"\"\"\n",
    "update orders\n",
    "set unit_price = 600\n",
    "where order_id = 2\n",
    "\"\"\"\n",
    "\n",
    "# connect to database\n",
    "connection = create_db_connection(\"localhost\", \"root\", pwd, 'mysql_python')\n",
    "execute_query(connection, update)"
   ]
  },
  {
   "cell_type": "code",
   "execution_count": 52,
   "id": "e2839afe",
   "metadata": {},
   "outputs": [
    {
     "name": "stdout",
     "output_type": "stream",
     "text": [
      "MySQL database connection successful\n",
      "(2, 'Daley', 'Stationeries', datetime.date(2010, 10, 5), 14, 600.0, '7066502185')\n"
     ]
    }
   ],
   "source": [
    "# Using the select statement\n",
    "s8 = \"\"\"\n",
    "select * from orders where order_id = 2;\n",
    "\"\"\"\n",
    "connection = create_db_connection(\"localhost\", \"root\", pwd, 'mysql_python')\n",
    "output = read_query(connection, s8)\n",
    "for result in output:\n",
    "    print(result)"
   ]
  },
  {
   "cell_type": "code",
   "execution_count": 53,
   "id": "be7025de",
   "metadata": {},
   "outputs": [
    {
     "name": "stdout",
     "output_type": "stream",
     "text": [
      "MySQL database connection successful\n",
      "(1, 'Yemi', 'Laptop', datetime.date(2015, 7, 23), 6, 1500.0, '8145916352')\n",
      "(2, 'Daley', 'Stationeries', datetime.date(2010, 10, 5), 14, 600.0, '7066502185')\n",
      "(3, 'Adimald', 'Clothes', datetime.date(2020, 9, 20), 2, 230.0, '8068196181')\n",
      "(4, 'Adroq', 'Smart Tv', datetime.date(2023, 11, 19), 1, 900.0, '8058077742')\n",
      "(5, 'Solad', 'Earpod', datetime.date(2021, 3, 30), 3, 400.0, '7084083812')\n",
      "(6, 'Adhal', 'Shoes', datetime.date(2022, 10, 16), 15, 2250.0, '55065612')\n"
     ]
    }
   ],
   "source": [
    "# Using the select statement\n",
    "s9 = \"\"\"\n",
    "select * from orders ;\n",
    "\"\"\"\n",
    "connection = create_db_connection(\"localhost\", \"root\", pwd, 'mysql_python')\n",
    "output = read_query(connection, s9)\n",
    "for result in output:\n",
    "    print(result)"
   ]
  },
  {
   "cell_type": "code",
   "execution_count": 56,
   "id": "d765b8e7",
   "metadata": {},
   "outputs": [
    {
     "name": "stdout",
     "output_type": "stream",
     "text": [
      "MySQL database connection successful\n",
      "Query was successful\n"
     ]
    }
   ],
   "source": [
    "# Delete command\n",
    "\n",
    "delete_order = \"\"\"\n",
    "delete from orders\n",
    "where unit_price =600\n",
    "\"\"\"\n",
    "\n",
    "# connect to database\n",
    "connection = create_db_connection(\"localhost\", \"root\", pwd, 'mysql_python')\n",
    "execute_query(connection, delete_order)"
   ]
  },
  {
   "cell_type": "code",
   "execution_count": 57,
   "id": "c9902ab8",
   "metadata": {},
   "outputs": [
    {
     "name": "stdout",
     "output_type": "stream",
     "text": [
      "MySQL database connection successful\n",
      "(1, 'Yemi', 'Laptop', datetime.date(2015, 7, 23), 6, 1500.0, '8145916352')\n",
      "(3, 'Adimald', 'Clothes', datetime.date(2020, 9, 20), 2, 230.0, '8068196181')\n",
      "(4, 'Adroq', 'Smart Tv', datetime.date(2023, 11, 19), 1, 900.0, '8058077742')\n",
      "(5, 'Solad', 'Earpod', datetime.date(2021, 3, 30), 3, 400.0, '7084083812')\n",
      "(6, 'Adhal', 'Shoes', datetime.date(2022, 10, 16), 15, 2250.0, '55065612')\n"
     ]
    }
   ],
   "source": [
    "# Using the select statement\n",
    "s10 = \"\"\"\n",
    "select * from orders ;\n",
    "\"\"\"\n",
    "connection = create_db_connection(\"localhost\", \"root\", pwd, 'mysql_python')\n",
    "output = read_query(connection, s10)\n",
    "for result in output:\n",
    "    print(result)"
   ]
  },
  {
   "cell_type": "code",
   "execution_count": null,
   "id": "326ae97a",
   "metadata": {},
   "outputs": [],
   "source": []
  }
 ],
 "metadata": {
  "kernelspec": {
   "display_name": "Python 3 (ipykernel)",
   "language": "python",
   "name": "python3"
  },
  "language_info": {
   "codemirror_mode": {
    "name": "ipython",
    "version": 3
   },
   "file_extension": ".py",
   "mimetype": "text/x-python",
   "name": "python",
   "nbconvert_exporter": "python",
   "pygments_lexer": "ipython3",
   "version": "3.10.9"
  }
 },
 "nbformat": 4,
 "nbformat_minor": 5
}
